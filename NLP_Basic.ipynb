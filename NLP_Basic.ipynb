{
  "cells": [
    {
      "cell_type": "markdown",
      "metadata": {
        "id": "view-in-github",
        "colab_type": "text"
      },
      "source": [
        "<a href=\"https://colab.research.google.com/github/fatemehes75/NLP_projects/blob/main/NLP_Basic.ipynb\" target=\"_parent\"><img src=\"https://colab.research.google.com/assets/colab-badge.svg\" alt=\"Open In Colab\"/></a>"
      ]
    },
    {
      "cell_type": "code",
      "execution_count": 1,
      "metadata": {
        "id": "c2lhZEnD3gQH"
      },
      "outputs": [],
      "source": [
        "import spacy\n",
        "nlp = spacy.load('en_core_web_sm')"
      ]
    },
    {
      "cell_type": "code",
      "execution_count": 6,
      "metadata": {
        "id": "-x6BrVAE3gQJ"
      },
      "outputs": [],
      "source": [
        "with open('owlcreek.txt') as f:\n",
        "    doc = nlp(f.read())"
      ]
    },
    {
      "cell_type": "code",
      "execution_count": 7,
      "metadata": {
        "colab": {
          "base_uri": "https://localhost:8080/"
        },
        "id": "oSU0g99d3gQJ",
        "outputId": "cc158b13-9c07-4013-de70-adf4579b31eb"
      },
      "outputs": [
        {
          "output_type": "execute_result",
          "data": {
            "text/plain": [
              "AN OCCURRENCE AT OWL CREEK BRIDGE\n",
              "\n",
              "by Ambrose Bierce\n",
              "\n",
              "I\n",
              "\n",
              "A man stood upon a railroad bridge in northern Alabama, looking down\n",
              "into the swift water twenty feet below.  "
            ]
          },
          "metadata": {},
          "execution_count": 7
        }
      ],
      "source": [
        "doc[:36]"
      ]
    },
    {
      "cell_type": "markdown",
      "metadata": {
        "id": "gNRcil1K3gQK"
      },
      "source": [
        "**2. How many tokens are contained in the file?**"
      ]
    },
    {
      "cell_type": "code",
      "execution_count": 8,
      "metadata": {
        "colab": {
          "base_uri": "https://localhost:8080/"
        },
        "id": "xTtWCi4l3gQL",
        "outputId": "1e3a3678-cba4-47a2-f406-d260d4e183e9"
      },
      "outputs": [
        {
          "output_type": "execute_result",
          "data": {
            "text/plain": [
              "4835"
            ]
          },
          "metadata": {},
          "execution_count": 8
        }
      ],
      "source": [
        "len(doc)"
      ]
    },
    {
      "cell_type": "markdown",
      "metadata": {
        "id": "MgRg1uil3gQM"
      },
      "source": [
        "**3. How many sentences are contained in the file?**"
      ]
    },
    {
      "cell_type": "code",
      "execution_count": 9,
      "metadata": {
        "colab": {
          "base_uri": "https://localhost:8080/"
        },
        "id": "zEGqmiso3gQM",
        "outputId": "02829669-3f68-44a7-f9a2-75abb0f7fd12"
      },
      "outputs": [
        {
          "output_type": "execute_result",
          "data": {
            "text/plain": [
              "204"
            ]
          },
          "metadata": {},
          "execution_count": 9
        }
      ],
      "source": [
        "sents = [sent for sent in doc.sents]\n",
        "len(sents)"
      ]
    },
    {
      "cell_type": "markdown",
      "metadata": {
        "id": "g2chs4RS3gQM"
      },
      "source": [
        "**4. Print the second sentence in the document**"
      ]
    },
    {
      "cell_type": "code",
      "execution_count": 10,
      "metadata": {
        "colab": {
          "base_uri": "https://localhost:8080/"
        },
        "id": "uXOhIY3m3gQN",
        "outputId": "e9bc7b81-343a-4ba3-f7a3-e033a8595c79"
      },
      "outputs": [
        {
          "output_type": "stream",
          "name": "stdout",
          "text": [
            "The man's hands were behind\n",
            "his back, the wrists bound with a cord.  \n"
          ]
        }
      ],
      "source": [
        "print(sents[1].text)"
      ]
    },
    {
      "cell_type": "code",
      "execution_count": 11,
      "metadata": {
        "colab": {
          "base_uri": "https://localhost:8080/"
        },
        "id": "f9Y8l-JQ3gQN",
        "outputId": "2c7c3233-a1ad-4d38-c801-0bc18517f4b3"
      },
      "outputs": [
        {
          "output_type": "stream",
          "name": "stdout",
          "text": [
            "The DET det the\n",
            "man NOUN poss man\n",
            "'s PART case 's\n",
            "hands NOUN nsubj hand\n",
            "were AUX ROOT be\n",
            "behind ADP prep behind\n",
            "\n",
            " SPACE dep \n",
            "\n",
            "his PRON poss his\n",
            "back NOUN pobj back\n",
            ", PUNCT punct ,\n",
            "the DET det the\n",
            "wrists NOUN appos wrist\n",
            "bound VERB acl bind\n",
            "with ADP prep with\n",
            "a DET det a\n",
            "cord NOUN pobj cord\n",
            ". PUNCT punct .\n",
            "  SPACE dep  \n"
          ]
        }
      ],
      "source": [
        "for token in sents[1]:\n",
        "    print(token.text, token.pos_, token.dep_, token.lemma_)"
      ]
    },
    {
      "cell_type": "code",
      "execution_count": 12,
      "metadata": {
        "colab": {
          "base_uri": "https://localhost:8080/"
        },
        "id": "xWpEqLfS3gQN",
        "outputId": "54c008ce-346e-4c33-9234-ba1faec334dd"
      },
      "outputs": [
        {
          "output_type": "stream",
          "name": "stdout",
          "text": [
            "The             DET   det        the            \n",
            "man             NOUN  poss       man            \n",
            "'s              PART  case       's             \n",
            "hands           NOUN  nsubj      hand           \n",
            "were            AUX   ROOT       be             \n",
            "behind          ADP   prep       behind         \n",
            "\n",
            "               SPACE dep        \n",
            "              \n",
            "his             PRON  poss       his            \n",
            "back            NOUN  pobj       back           \n",
            ",               PUNCT punct      ,              \n",
            "the             DET   det        the            \n",
            "wrists          NOUN  appos      wrist          \n",
            "bound           VERB  acl        bind           \n",
            "with            ADP   prep       with           \n",
            "a               DET   det        a              \n",
            "cord            NOUN  pobj       cord           \n",
            ".               PUNCT punct      .              \n",
            "                SPACE dep                       \n"
          ]
        }
      ],
      "source": [
        "for token in sents[1]:\n",
        "    print(f'{token.text:{15}} {token.pos_:{5}} {token.dep_:{10}} {token.lemma_:{15}}')"
      ]
    },
    {
      "cell_type": "code",
      "execution_count": 13,
      "metadata": {
        "id": "Shn3ySeI3gQO"
      },
      "outputs": [],
      "source": [
        "# Matcher\n",
        "from spacy.matcher import Matcher\n",
        "matcher = Matcher(nlp.vocab)"
      ]
    },
    {
      "cell_type": "code",
      "execution_count": 14,
      "metadata": {
        "id": "GXm_nh_A3gQO"
      },
      "outputs": [],
      "source": [
        "# Create a pattern and add it to matcher:\n",
        "\n",
        "pattern = [{'LOWER': 'swimming'}, {'IS_SPACE': True, 'OP':'*'}, {'LOWER': 'vigorously'}]\n",
        "\n",
        "matcher.add('Swimming', [pattern])"
      ]
    },
    {
      "cell_type": "code",
      "execution_count": 15,
      "metadata": {
        "colab": {
          "base_uri": "https://localhost:8080/"
        },
        "id": "VqKGcUql3gQO",
        "outputId": "ef867c61-2e7d-4b81-f594-e0dd52c92060"
      },
      "outputs": [
        {
          "output_type": "stream",
          "name": "stdout",
          "text": [
            "[(12881893835109366681, 1274, 1277), (12881893835109366681, 3609, 3612)]\n"
          ]
        }
      ],
      "source": [
        "# Create a list of matches called \"found_matches\" and print the list:\n",
        "\n",
        "found_matches = matcher(doc)\n",
        "print(found_matches)"
      ]
    },
    {
      "cell_type": "markdown",
      "metadata": {
        "id": "nXYm2Oki3gQO"
      },
      "source": [
        "**7. Print the text surrounding each found match**"
      ]
    },
    {
      "cell_type": "code",
      "execution_count": 16,
      "metadata": {
        "colab": {
          "base_uri": "https://localhost:8080/"
        },
        "id": "tPBRaWCo3gQP",
        "outputId": "ba023b56-caab-4c78-f894-136738d24f0f"
      },
      "outputs": [
        {
          "output_type": "stream",
          "name": "stdout",
          "text": [
            "By diving I could evade the bullets and, swimming\n",
            "vigorously, reach the bank, take to the woods and get away home\n"
          ]
        }
      ],
      "source": [
        "print(doc[1265:1290])"
      ]
    },
    {
      "cell_type": "code",
      "execution_count": 17,
      "metadata": {
        "colab": {
          "base_uri": "https://localhost:8080/"
        },
        "id": "fjVdcq603gQP",
        "outputId": "0cb7206a-815c-4c57-8bbd-8c2ccc57079b"
      },
      "outputs": [
        {
          "output_type": "stream",
          "name": "stdout",
          "text": [
            "all this over his shoulder; he was now swimming\n",
            "vigorously with the current\n"
          ]
        }
      ],
      "source": [
        "print(doc[3600:3615])"
      ]
    },
    {
      "cell_type": "code",
      "execution_count": 18,
      "metadata": {
        "colab": {
          "base_uri": "https://localhost:8080/"
        },
        "id": "togNQKfu3gQP",
        "outputId": "43742e79-6a81-44a1-eaca-998b1247858e"
      },
      "outputs": [
        {
          "output_type": "stream",
          "name": "stdout",
          "text": [
            "By diving I could evade the bullets and, swimming\n",
            "vigorously, reach the bank, take to the woods and get away home.  \n"
          ]
        }
      ],
      "source": [
        "for sent in sents:\n",
        "    if found_matches[0][1] < sent.end:\n",
        "        print(sent)\n",
        "        break"
      ]
    },
    {
      "cell_type": "code",
      "execution_count": 19,
      "metadata": {
        "colab": {
          "base_uri": "https://localhost:8080/"
        },
        "id": "E9O42hS43gQP",
        "outputId": "8636ec27-b9e3-494c-ef31-2a55bd344155"
      },
      "outputs": [
        {
          "output_type": "stream",
          "name": "stdout",
          "text": [
            "The hunted man saw all this over his shoulder; he was now swimming\n",
            "vigorously with the current.  \n"
          ]
        }
      ],
      "source": [
        "for sent in sents:\n",
        "    if found_matches[1][1] < sent.end:\n",
        "        print(sent)\n",
        "        break"
      ]
    },
    {
      "cell_type": "code",
      "source": [],
      "metadata": {
        "id": "Op2z-6-e35oJ"
      },
      "execution_count": null,
      "outputs": []
    }
  ],
  "metadata": {
    "kernelspec": {
      "display_name": "Python 3 (ipykernel)",
      "language": "python",
      "name": "python3"
    },
    "language_info": {
      "codemirror_mode": {
        "name": "ipython",
        "version": 3
      },
      "file_extension": ".py",
      "mimetype": "text/x-python",
      "name": "python",
      "nbconvert_exporter": "python",
      "pygments_lexer": "ipython3",
      "version": "3.9.7"
    },
    "colab": {
      "provenance": [],
      "include_colab_link": true
    }
  },
  "nbformat": 4,
  "nbformat_minor": 0
}